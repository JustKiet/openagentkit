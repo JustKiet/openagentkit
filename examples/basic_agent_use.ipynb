{
 "cells": [
  {
   "cell_type": "code",
   "execution_count": 1,
   "id": "0740f17d",
   "metadata": {},
   "outputs": [],
   "source": [
    "from openagentkit.modules.openai import OpenAIExecutor\n",
    "from openagentkit.core.utils.tool_wrapper import tool\n",
    "from pydantic import BaseModel\n",
    "from typing import Annotated\n",
    "import openai\n",
    "import os"
   ]
  },
  {
   "cell_type": "code",
   "execution_count": 2,
   "id": "40935486",
   "metadata": {},
   "outputs": [],
   "source": [
    "# Define a tool\n",
    "@tool(\n",
    "    description=\"Get the weather of a city\", # Define the tool description\n",
    ")\n",
    "def get_weather(city: Annotated[str, \"The city to get the weather of\"]): # Each argument must be of type Annotated\n",
    "    \"\"\"Get the weather of a city\"\"\"\n",
    "\n",
    "    # Actual implementation here...\n",
    "    # ...\n",
    "\n",
    "    return f\"Weather in {city}: sunny, 20°C, feels like 22°C, humidity: 50%\""
   ]
  },
  {
   "cell_type": "code",
   "execution_count": null,
   "id": "b52994ff",
   "metadata": {},
   "outputs": [
    {
     "name": "stderr",
     "output_type": "stream",
     "text": [
      "\u001b[32m2025-04-17 22:33:08.350\u001b[0m | \u001b[1mINFO    \u001b[0m | \u001b[36mopenagentkit.modules.openai.openai_executor\u001b[0m:\u001b[36mexecute\u001b[0m:\u001b[36m164\u001b[0m - \u001b[1mResponse Received: role='assistant' content=None tool_calls=[{'id': 'call_4VGCifNwxF1mzVU5UMsaKJKr', 'type': 'function', 'function': {'arguments': '{\"city\":\"New York\"}', 'name': 'get_weather'}}] tool_results=None refusal=None audio=None usage=UsageResponse(prompt_tokens=112, completion_tokens=16, total_tokens=128, prompt_tokens_details=PromptTokensDetails(cached_tokens=0, audio_tokens=0), completion_tokens_details=CompletionTokensDetails(reasoning_tokens=0, audio_tokens=0, accepted_prediction_tokens=0, rejected_prediction_tokens=0))\u001b[0m\n",
      "\u001b[32m2025-04-17 22:33:08.352\u001b[0m | \u001b[1mINFO    \u001b[0m | \u001b[36mopenagentkit.core.handlers.tool_handler\u001b[0m:\u001b[36mhandle_tool_request\u001b[0m:\u001b[36m177\u001b[0m - \u001b[1mTool Result: Weather in New York: sunny, 20°C, feels like 22°C, humidity: 50%\u001b[0m\n",
      "\u001b[32m2025-04-17 22:33:09.619\u001b[0m | \u001b[1mINFO    \u001b[0m | \u001b[36mopenagentkit.modules.openai.openai_executor\u001b[0m:\u001b[36mexecute\u001b[0m:\u001b[36m164\u001b[0m - \u001b[1mResponse Received: role='assistant' content='The weather in New York is currently sunny, with a temperature of 20°C (feels like 22°C) and a humidity level of 50%.' tool_calls=None tool_results=None refusal=None audio=None usage=UsageResponse(prompt_tokens=162, completion_tokens=34, total_tokens=196, prompt_tokens_details=PromptTokensDetails(cached_tokens=0, audio_tokens=0), completion_tokens_details=CompletionTokensDetails(reasoning_tokens=0, audio_tokens=0, accepted_prediction_tokens=0, rejected_prediction_tokens=0))\u001b[0m\n"
     ]
    },
    {
     "name": "stdout",
     "output_type": "stream",
     "text": [
      "The weather in New York is currently sunny, with a temperature of 20°C (feels like 22°C) and a humidity level of 50%.\n"
     ]
    }
   ],
   "source": [
    "# Initialize OpenAI client\n",
    "client = openai.OpenAI(\n",
    "    api_key=os.getenv(\"OPENAI_API_KEY\"),\n",
    ")\n",
    "\n",
    "# Initialize LLM service\n",
    "executor = OpenAIExecutor(\n",
    "    client=client,\n",
    "    model=\"gpt-4o-mini\",\n",
    "    system_message=\"\"\"\n",
    "    You are a helpful assistant that can answer questions and help with tasks.\n",
    "    You are also able to use tools to get information.\n",
    "    \"\"\",\n",
    "    tools=[get_weather],\n",
    "    temperature=0.5,\n",
    "    max_tokens=100,\n",
    "    top_p=1.0,\n",
    ")\n",
    "\n",
    "generator = executor.execute(\n",
    "    messages=[\n",
    "        {\"role\": \"user\", \"content\": \"What's the weather like in New York?\"}\n",
    "    ]\n",
    ")\n",
    "\n",
    "for response in generator:\n",
    "    print(response)"
   ]
  },
  {
   "cell_type": "code",
   "execution_count": 4,
   "id": "465869ce",
   "metadata": {},
   "outputs": [
    {
     "data": {
      "text/plain": [
       "[{'role': 'system',\n",
       "  'content': '\\n    You are a helpful assistant that can answer questions and help with tasks.\\n    You are also able to use tools to get information.\\n    \\n        Current date and time: 2025-04-17 22:33:06\\n\\n        \\n        '}]"
      ]
     },
     "execution_count": 4,
     "metadata": {},
     "output_type": "execute_result"
    }
   ],
   "source": [
    "executor.clear_history()"
   ]
  },
  {
   "cell_type": "code",
   "execution_count": 5,
   "id": "82b2a256",
   "metadata": {},
   "outputs": [
    {
     "name": "stdout",
     "output_type": "stream",
     "text": [
      "User: Hello!\n"
     ]
    },
    {
     "name": "stderr",
     "output_type": "stream",
     "text": [
      "\u001b[32m2025-04-17 22:33:13.470\u001b[0m | \u001b[1mINFO    \u001b[0m | \u001b[36mopenagentkit.modules.openai.openai_executor\u001b[0m:\u001b[36mexecute\u001b[0m:\u001b[36m164\u001b[0m - \u001b[1mResponse Received: role='assistant' content='Hello! How can I assist you today?' tool_calls=None tool_results=None refusal=None audio=None usage=UsageResponse(prompt_tokens=106, completion_tokens=11, total_tokens=117, prompt_tokens_details=PromptTokensDetails(cached_tokens=0, audio_tokens=0), completion_tokens_details=CompletionTokensDetails(reasoning_tokens=0, audio_tokens=0, accepted_prediction_tokens=0, rejected_prediction_tokens=0))\u001b[0m\n"
     ]
    },
    {
     "name": "stdout",
     "output_type": "stream",
     "text": [
      "AI: Hello! How can I assist you today?\n",
      "User: I'd like to know about the weather\n"
     ]
    },
    {
     "name": "stderr",
     "output_type": "stream",
     "text": [
      "\u001b[32m2025-04-17 22:33:26.463\u001b[0m | \u001b[1mINFO    \u001b[0m | \u001b[36mopenagentkit.modules.openai.openai_executor\u001b[0m:\u001b[36mexecute\u001b[0m:\u001b[36m164\u001b[0m - \u001b[1mResponse Received: role='assistant' content='Sure! Which city would you like to know the weather for?' tool_calls=None tool_results=None refusal=None audio=None usage=UsageResponse(prompt_tokens=143, completion_tokens=15, total_tokens=158, prompt_tokens_details=PromptTokensDetails(cached_tokens=0, audio_tokens=0), completion_tokens_details=CompletionTokensDetails(reasoning_tokens=0, audio_tokens=0, accepted_prediction_tokens=0, rejected_prediction_tokens=0))\u001b[0m\n"
     ]
    },
    {
     "name": "stdout",
     "output_type": "stream",
     "text": [
      "AI: Sure! Which city would you like to know the weather for?\n",
      "User: Hmm I'm in Hanoi\n"
     ]
    },
    {
     "name": "stderr",
     "output_type": "stream",
     "text": [
      "\u001b[32m2025-04-17 22:33:40.070\u001b[0m | \u001b[1mINFO    \u001b[0m | \u001b[36mopenagentkit.modules.openai.openai_executor\u001b[0m:\u001b[36mexecute\u001b[0m:\u001b[36m164\u001b[0m - \u001b[1mResponse Received: role='assistant' content=None tool_calls=[{'id': 'call_AtjqOz7ql30K5EvzGHTjgVxg', 'type': 'function', 'function': {'arguments': '{\"city\":\"Hanoi\"}', 'name': 'get_weather'}}] tool_results=None refusal=None audio=None usage=UsageResponse(prompt_tokens=185, completion_tokens=16, total_tokens=201, prompt_tokens_details=PromptTokensDetails(cached_tokens=0, audio_tokens=0), completion_tokens_details=CompletionTokensDetails(reasoning_tokens=0, audio_tokens=0, accepted_prediction_tokens=0, rejected_prediction_tokens=0))\u001b[0m\n",
      "\u001b[32m2025-04-17 22:33:40.071\u001b[0m | \u001b[1mINFO    \u001b[0m | \u001b[36mopenagentkit.core.handlers.tool_handler\u001b[0m:\u001b[36mhandle_tool_request\u001b[0m:\u001b[36m177\u001b[0m - \u001b[1mTool Result: Weather in Hanoi: sunny, 20°C, feels like 22°C, humidity: 50%\u001b[0m\n",
      "\u001b[32m2025-04-17 22:33:42.186\u001b[0m | \u001b[1mINFO    \u001b[0m | \u001b[36mopenagentkit.modules.openai.openai_executor\u001b[0m:\u001b[36mexecute\u001b[0m:\u001b[36m164\u001b[0m - \u001b[1mResponse Received: role='assistant' content='The weather in Hanoi is currently sunny, with a temperature of 20°C. It feels like 22°C, and the humidity is at 50%. If you need more information or have other questions, feel free to ask!' tool_calls=None tool_results=None refusal=None audio=None usage=UsageResponse(prompt_tokens=234, completion_tokens=48, total_tokens=282, prompt_tokens_details=PromptTokensDetails(cached_tokens=0, audio_tokens=0), completion_tokens_details=CompletionTokensDetails(reasoning_tokens=0, audio_tokens=0, accepted_prediction_tokens=0, rejected_prediction_tokens=0))\u001b[0m\n"
     ]
    },
    {
     "name": "stdout",
     "output_type": "stream",
     "text": [
      "AI: The weather in Hanoi is currently sunny, with a temperature of 20°C. It feels like 22°C, and the humidity is at 50%. If you need more information or have other questions, feel free to ask!\n",
      "User: Nice one, have a great day!\n"
     ]
    },
    {
     "name": "stderr",
     "output_type": "stream",
     "text": [
      "\u001b[32m2025-04-17 22:33:51.795\u001b[0m | \u001b[1mINFO    \u001b[0m | \u001b[36mopenagentkit.modules.openai.openai_executor\u001b[0m:\u001b[36mexecute\u001b[0m:\u001b[36m164\u001b[0m - \u001b[1mResponse Received: role='assistant' content='Thank you! You have a great day too! If you have any more questions in the future, feel free to ask.' tool_calls=None tool_results=None refusal=None audio=None usage=UsageResponse(prompt_tokens=346, completion_tokens=27, total_tokens=373, prompt_tokens_details=PromptTokensDetails(cached_tokens=0, audio_tokens=0), completion_tokens_details=CompletionTokensDetails(reasoning_tokens=0, audio_tokens=0, accepted_prediction_tokens=0, rejected_prediction_tokens=0))\u001b[0m\n"
     ]
    },
    {
     "name": "stdout",
     "output_type": "stream",
     "text": [
      "AI: Thank you! You have a great day too! If you have any more questions in the future, feel free to ask.\n",
      "User: exit\n"
     ]
    }
   ],
   "source": [
    "while True:\n",
    "    user_input = input(\"User: \")\n",
    "    print(f\"User: {user_input}\")\n",
    "    \n",
    "    if user_input.lower() == \"exit\":\n",
    "        break\n",
    "\n",
    "    generator = executor.execute(\n",
    "        messages=[\n",
    "            {\"role\": \"user\", \"content\": user_input}\n",
    "        ]\n",
    "    )\n",
    "\n",
    "    for response in generator:\n",
    "        print(f\"AI: {response.content}\")\n",
    "    if response.tool_results:\n",
    "            print(f\"Tool response: {response.tool_response}\")"
   ]
  }
 ],
 "metadata": {
  "kernelspec": {
   "display_name": ".venv",
   "language": "python",
   "name": "python3"
  },
  "language_info": {
   "codemirror_mode": {
    "name": "ipython",
    "version": 3
   },
   "file_extension": ".py",
   "mimetype": "text/x-python",
   "name": "python",
   "nbconvert_exporter": "python",
   "pygments_lexer": "ipython3",
   "version": "3.11.11"
  }
 },
 "nbformat": 4,
 "nbformat_minor": 5
}
