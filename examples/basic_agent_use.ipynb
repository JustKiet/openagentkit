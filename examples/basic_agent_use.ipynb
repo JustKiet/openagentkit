{
 "cells": [
  {
   "cell_type": "code",
   "execution_count": null,
   "id": "0740f17d",
   "metadata": {},
   "outputs": [],
   "source": [
    "from openagentkit.modules.openai import OpenAIExecutor\n",
    "from openagentkit.core.handlers.tools.tool_wrapper import tool\n",
    "from typing import Annotated\n",
    "import openai\n",
    "import os"
   ]
  },
  {
   "cell_type": "code",
   "execution_count": 3,
   "id": "40935486",
   "metadata": {},
   "outputs": [],
   "source": [
    "# Define a tool\n",
    "@tool(\n",
    "    description=\"Get the weather of a city\", # Define the tool description\n",
    ")\n",
    "def get_weather(city: Annotated[str, \"The city to get the weather of\"]): # Each argument must be of type Annotated\n",
    "    \"\"\"Get the weather of a city\"\"\"\n",
    "\n",
    "    # Actual implementation here...\n",
    "    # ...\n",
    "\n",
    "    return f\"Weather in {city}: sunny, 20°C, feels like 22°C, humidity: 50%\""
   ]
  },
  {
   "cell_type": "code",
   "execution_count": 4,
   "id": "9bcd5847",
   "metadata": {},
   "outputs": [
    {
     "data": {
      "text/plain": [
       "{'type': 'function',\n",
       " 'function': {'name': 'get_weather',\n",
       "  'description': 'Get the weather of a city',\n",
       "  'strict': True,\n",
       "  'parameters': {'properties': {'city': {'title': 'City', 'type': 'string'}},\n",
       "   'required': ['city'],\n",
       "   'type': 'object',\n",
       "   'additionalProperties': False}}}"
      ]
     },
     "execution_count": 4,
     "metadata": {},
     "output_type": "execute_result"
    }
   ],
   "source": [
    "get_weather.schema"
   ]
  },
  {
   "cell_type": "code",
   "execution_count": 5,
   "id": "0c972579",
   "metadata": {},
   "outputs": [],
   "source": [
    "@tool(\n",
    "    description=\"Calculate the sum of 2 numbers\", # Define the tool description\n",
    ")\n",
    "def calculate(a: Annotated[int, \"a\"], b: Annotated[int, \"b\"]) -> int:\n",
    "    \"\"\"Calculate the sum of two numbers\"\"\"\n",
    "    return a + b"
   ]
  },
  {
   "cell_type": "code",
   "execution_count": 6,
   "id": "109f4353",
   "metadata": {},
   "outputs": [
    {
     "data": {
      "text/plain": [
       "{'type': 'function',\n",
       " 'function': {'name': 'calculate',\n",
       "  'description': 'Calculate the sum of two numbers',\n",
       "  'strict': True,\n",
       "  'parameters': {'properties': {'a': {'title': 'A', 'type': 'integer'},\n",
       "    'b': {'title': 'B', 'type': 'integer'}},\n",
       "   'required': ['a', 'b'],\n",
       "   'type': 'object',\n",
       "   'additionalProperties': False}}}"
      ]
     },
     "execution_count": 6,
     "metadata": {},
     "output_type": "execute_result"
    }
   ],
   "source": [
    "calculate.schema"
   ]
  },
  {
   "cell_type": "code",
   "execution_count": 7,
   "id": "b52994ff",
   "metadata": {},
   "outputs": [
    {
     "name": "stdout",
     "output_type": "stream",
     "text": [
      "role='assistant' content=None tool_calls=[{'id': 'call_LmjgeXAZlZwLTTlmDjjoNUT7', 'type': 'function', 'function': {'arguments': '{\"city\":\"New York\"}', 'name': 'get_weather'}}] tool_results=None refusal=None audio=None usage=UsageResponse(prompt_tokens=106, completion_tokens=16, total_tokens=122, prompt_tokens_details=PromptTokensDetails(cached_tokens=0, audio_tokens=0), completion_tokens_details=CompletionTokensDetails(reasoning_tokens=0, audio_tokens=0, accepted_prediction_tokens=0, rejected_prediction_tokens=0))\n",
      "role='tool' content=None tool_calls=None tool_results=[ToolCallResult(tool_name='get_weather', result='Weather in New York: sunny, 20°C, feels like 22°C, humidity: 50%')] refusal=None audio=None usage=None\n",
      "role='assistant' content='The weather in New York is sunny with a temperature of 20°C (feels like 22°C) and humidity at 50%.' tool_calls=None tool_results=[] refusal=None audio=None usage=UsageResponse(prompt_tokens=156, completion_tokens=30, total_tokens=186, prompt_tokens_details=PromptTokensDetails(cached_tokens=0, audio_tokens=0), completion_tokens_details=CompletionTokensDetails(reasoning_tokens=0, audio_tokens=0, accepted_prediction_tokens=0, rejected_prediction_tokens=0))\n"
     ]
    }
   ],
   "source": [
    "# Initialize OpenAI client\n",
    "client = openai.OpenAI(\n",
    "    api_key=os.getenv(\"OPENAI_API_KEY\"),\n",
    ")\n",
    "\n",
    "# Initialize LLM service\n",
    "executor = OpenAIExecutor(\n",
    "    client=client,\n",
    "    model=\"gpt-4o-mini\",\n",
    "    system_message=\"\"\"\n",
    "    You are a helpful assistant that can answer questions and help with tasks.\n",
    "    You are also able to use tools to get information.\n",
    "    \"\"\",\n",
    "    tools=[get_weather],\n",
    "    temperature=0.5,\n",
    "    max_tokens=100,\n",
    "    top_p=1.0,\n",
    ")\n",
    "\n",
    "generator = executor.execute(\n",
    "    messages=[\n",
    "        {\"role\": \"user\", \"content\": \"What's the weather like in New York?\"}\n",
    "    ]\n",
    ")\n",
    "\n",
    "for response in generator:\n",
    "    print(response)"
   ]
  },
  {
   "cell_type": "code",
   "execution_count": 8,
   "id": "45e4b2e9",
   "metadata": {},
   "outputs": [
    {
     "data": {
      "text/plain": [
       "[{'role': 'system',\n",
       "  'content': '\\n    You are a helpful assistant that can answer questions and help with tasks.\\n    You are also able to use tools to get information.\\n    \\n        Current date and time: 2025-05-03 00:00:28\\n\\n        \\n        '},\n",
       " {'role': 'user', 'content': \"What's the weather like in New York?\"},\n",
       " {'role': 'assistant',\n",
       "  'tool_calls': [{'id': 'call_LmjgeXAZlZwLTTlmDjjoNUT7',\n",
       "    'type': 'function',\n",
       "    'function': {'arguments': '{\"city\":\"New York\"}', 'name': 'get_weather'}}],\n",
       "  'content': 'None'},\n",
       " {'role': 'tool',\n",
       "  'tool_call_id': 'call_LmjgeXAZlZwLTTlmDjjoNUT7',\n",
       "  'content': 'Weather in New York: sunny, 20°C, feels like 22°C, humidity: 50%'},\n",
       " {'role': 'assistant',\n",
       "  'content': 'The weather in New York is sunny with a temperature of 20°C (feels like 22°C) and humidity at 50%.'}]"
      ]
     },
     "execution_count": 8,
     "metadata": {},
     "output_type": "execute_result"
    }
   ],
   "source": [
    "executor.get_history()"
   ]
  },
  {
   "cell_type": "code",
   "execution_count": 9,
   "id": "465869ce",
   "metadata": {},
   "outputs": [
    {
     "data": {
      "text/plain": [
       "[{'role': 'system',\n",
       "  'content': '\\n    You are a helpful assistant that can answer questions and help with tasks.\\n    You are also able to use tools to get information.\\n    \\n        Current date and time: 2025-05-03 00:00:28\\n\\n        \\n        '}]"
      ]
     },
     "execution_count": 9,
     "metadata": {},
     "output_type": "execute_result"
    }
   ],
   "source": [
    "executor.clear_history()"
   ]
  },
  {
   "cell_type": "code",
   "execution_count": 10,
   "id": "82b2a256",
   "metadata": {},
   "outputs": [
    {
     "name": "stdout",
     "output_type": "stream",
     "text": [
      "User: exit\n"
     ]
    }
   ],
   "source": [
    "while True:\n",
    "    user_input = input(\"User: \")\n",
    "    print(f\"User: {user_input}\")\n",
    "    \n",
    "    if user_input.lower() == \"exit\":\n",
    "        break\n",
    "\n",
    "    generator = executor.execute(\n",
    "        messages=[\n",
    "            {\"role\": \"user\", \"content\": user_input}\n",
    "        ]\n",
    "    )\n",
    "\n",
    "    for response in generator:\n",
    "        if response.content is not None:\n",
    "            print(f\"AI: {response.content}\")\n",
    "        if response.tool_calls:\n",
    "            [print(f\"Tool Calls: {tool_call}\") for tool_call in response.tool_calls]"
   ]
  },
  {
   "cell_type": "code",
   "execution_count": 11,
   "id": "a8ca886b",
   "metadata": {},
   "outputs": [
    {
     "data": {
      "text/plain": [
       "[{'role': 'system',\n",
       "  'content': '\\n    You are a helpful assistant that can answer questions and help with tasks.\\n    You are also able to use tools to get information.\\n    \\n        Current date and time: 2025-05-03 00:00:28\\n\\n        \\n        '}]"
      ]
     },
     "execution_count": 11,
     "metadata": {},
     "output_type": "execute_result"
    }
   ],
   "source": [
    "executor.get_history()"
   ]
  }
 ],
 "metadata": {
  "kernelspec": {
   "display_name": ".venv",
   "language": "python",
   "name": "python3"
  },
  "language_info": {
   "codemirror_mode": {
    "name": "ipython",
    "version": 3
   },
   "file_extension": ".py",
   "mimetype": "text/x-python",
   "name": "python",
   "nbconvert_exporter": "python",
   "pygments_lexer": "ipython3",
   "version": "3.12.3"
  }
 },
 "nbformat": 4,
 "nbformat_minor": 5
}
