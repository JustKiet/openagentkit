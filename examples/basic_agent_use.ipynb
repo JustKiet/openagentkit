{
 "cells": [
  {
   "cell_type": "code",
   "execution_count": 2,
   "id": "0740f17d",
   "metadata": {},
   "outputs": [],
   "source": [
    "from openagentkit.modules.openai import OpenAIExecutor\n",
    "from openagentkit.core.utils.tool_wrapper import tool\n",
    "from pydantic import BaseModel\n",
    "from typing import Annotated\n",
    "import openai\n",
    "import os"
   ]
  },
  {
   "cell_type": "code",
   "execution_count": 3,
   "id": "40935486",
   "metadata": {},
   "outputs": [],
   "source": [
    "# Define a tool\n",
    "@tool(\n",
    "    description=\"Get the weather of a city\", # Define the tool description\n",
    ")\n",
    "def get_weather(city: Annotated[str, \"The city to get the weather of\"]): # Each argument must be of type Annotated\n",
    "    \"\"\"Get the weather of a city\"\"\"\n",
    "\n",
    "    # Actual implementation here...\n",
    "    # ...\n",
    "\n",
    "    return f\"Weather in {city}: sunny, 20°C, feels like 22°C, humidity: 50%\""
   ]
  },
  {
   "cell_type": "code",
   "execution_count": 4,
   "id": "b52994ff",
   "metadata": {},
   "outputs": [
    {
     "name": "stderr",
     "output_type": "stream",
     "text": [
      "\u001b[32m2025-04-18 00:26:53.808\u001b[0m | \u001b[1mINFO    \u001b[0m | \u001b[36mopenagentkit.modules.openai.openai_executor\u001b[0m:\u001b[36mexecute\u001b[0m:\u001b[36m164\u001b[0m - \u001b[1mResponse Received: role='assistant' content=None tool_calls=[{'id': 'call_gEOGnPnXIuBUs8j0GfeONgkr', 'type': 'function', 'function': {'arguments': '{\"city\":\"New York\"}', 'name': 'get_weather'}}] tool_results=None refusal=None audio=None usage=UsageResponse(prompt_tokens=112, completion_tokens=16, total_tokens=128, prompt_tokens_details=PromptTokensDetails(cached_tokens=0, audio_tokens=0), completion_tokens_details=CompletionTokensDetails(reasoning_tokens=0, audio_tokens=0, accepted_prediction_tokens=0, rejected_prediction_tokens=0))\u001b[0m\n",
      "\u001b[32m2025-04-18 00:26:53.809\u001b[0m | \u001b[1mINFO    \u001b[0m | \u001b[36mopenagentkit.core.handlers.tool_handler\u001b[0m:\u001b[36mhandle_tool_request\u001b[0m:\u001b[36m179\u001b[0m - \u001b[1mTool Result: Weather in New York: sunny, 20°C, feels like 22°C, humidity: 50%\u001b[0m\n"
     ]
    },
    {
     "name": "stdout",
     "output_type": "stream",
     "text": [
      "role='assistant' content=None tool_calls=[{'id': 'call_gEOGnPnXIuBUs8j0GfeONgkr', 'type': 'function', 'function': {'arguments': '{\"city\":\"New York\"}', 'name': 'get_weather'}}] tool_results=None refusal=None audio=None usage=UsageResponse(prompt_tokens=112, completion_tokens=16, total_tokens=128, prompt_tokens_details=PromptTokensDetails(cached_tokens=0, audio_tokens=0), completion_tokens_details=CompletionTokensDetails(reasoning_tokens=0, audio_tokens=0, accepted_prediction_tokens=0, rejected_prediction_tokens=0))\n",
      "role='tool' content=None tool_calls=None tool_results=[ToolCallResult(tool_name='get_weather', result='Weather in New York: sunny, 20°C, feels like 22°C, humidity: 50%')] refusal=None audio=None usage=None\n"
     ]
    },
    {
     "name": "stderr",
     "output_type": "stream",
     "text": [
      "\u001b[32m2025-04-18 00:26:54.890\u001b[0m | \u001b[1mINFO    \u001b[0m | \u001b[36mopenagentkit.modules.openai.openai_executor\u001b[0m:\u001b[36mexecute\u001b[0m:\u001b[36m164\u001b[0m - \u001b[1mResponse Received: role='assistant' content='The weather in New York is currently sunny, with a temperature of 20°C (feels like 22°C) and a humidity level of 50%.' tool_calls=None tool_results=None refusal=None audio=None usage=UsageResponse(prompt_tokens=162, completion_tokens=34, total_tokens=196, prompt_tokens_details=PromptTokensDetails(cached_tokens=0, audio_tokens=0), completion_tokens_details=CompletionTokensDetails(reasoning_tokens=0, audio_tokens=0, accepted_prediction_tokens=0, rejected_prediction_tokens=0))\u001b[0m\n"
     ]
    },
    {
     "name": "stdout",
     "output_type": "stream",
     "text": [
      "role='assistant' content='The weather in New York is currently sunny, with a temperature of 20°C (feels like 22°C) and a humidity level of 50%.' tool_calls=None tool_results=[] refusal=None audio=None usage=UsageResponse(prompt_tokens=162, completion_tokens=34, total_tokens=196, prompt_tokens_details=PromptTokensDetails(cached_tokens=0, audio_tokens=0), completion_tokens_details=CompletionTokensDetails(reasoning_tokens=0, audio_tokens=0, accepted_prediction_tokens=0, rejected_prediction_tokens=0))\n"
     ]
    }
   ],
   "source": [
    "# Initialize OpenAI client\n",
    "client = openai.OpenAI(\n",
    "    api_key=os.getenv(\"OPENAI_API_KEY\"),\n",
    ")\n",
    "\n",
    "# Initialize LLM service\n",
    "executor = OpenAIExecutor(\n",
    "    client=client,\n",
    "    model=\"gpt-4o-mini\",\n",
    "    system_message=\"\"\"\n",
    "    You are a helpful assistant that can answer questions and help with tasks.\n",
    "    You are also able to use tools to get information.\n",
    "    \"\"\",\n",
    "    tools=[get_weather],\n",
    "    temperature=0.5,\n",
    "    max_tokens=100,\n",
    "    top_p=1.0,\n",
    ")\n",
    "\n",
    "generator = executor.execute(\n",
    "    messages=[\n",
    "        {\"role\": \"user\", \"content\": \"What's the weather like in New York?\"}\n",
    "    ]\n",
    ")\n",
    "\n",
    "for response in generator:\n",
    "    print(response)"
   ]
  },
  {
   "cell_type": "code",
   "execution_count": 5,
   "id": "465869ce",
   "metadata": {},
   "outputs": [
    {
     "data": {
      "text/plain": [
       "[{'role': 'system',\n",
       "  'content': '\\n    You are a helpful assistant that can answer questions and help with tasks.\\n    You are also able to use tools to get information.\\n    \\n        Current date and time: 2025-04-18 00:26:52\\n\\n        \\n        '}]"
      ]
     },
     "execution_count": 5,
     "metadata": {},
     "output_type": "execute_result"
    }
   ],
   "source": [
    "executor.clear_history()"
   ]
  },
  {
   "cell_type": "code",
   "execution_count": 6,
   "id": "82b2a256",
   "metadata": {},
   "outputs": [
    {
     "name": "stdout",
     "output_type": "stream",
     "text": [
      "User: Hello\n"
     ]
    },
    {
     "name": "stderr",
     "output_type": "stream",
     "text": [
      "\u001b[32m2025-04-18 00:26:59.921\u001b[0m | \u001b[1mINFO    \u001b[0m | \u001b[36mopenagentkit.modules.openai.openai_executor\u001b[0m:\u001b[36mexecute\u001b[0m:\u001b[36m164\u001b[0m - \u001b[1mResponse Received: role='assistant' content='Hello! How can I assist you today?' tool_calls=None tool_results=None refusal=None audio=None usage=UsageResponse(prompt_tokens=105, completion_tokens=11, total_tokens=116, prompt_tokens_details=PromptTokensDetails(cached_tokens=0, audio_tokens=0), completion_tokens_details=CompletionTokensDetails(reasoning_tokens=0, audio_tokens=0, accepted_prediction_tokens=0, rejected_prediction_tokens=0))\u001b[0m\n"
     ]
    },
    {
     "name": "stdout",
     "output_type": "stream",
     "text": [
      "AI: Hello! How can I assist you today?\n",
      "User: What's the weather like?\n"
     ]
    },
    {
     "name": "stderr",
     "output_type": "stream",
     "text": [
      "\u001b[32m2025-04-18 00:27:05.276\u001b[0m | \u001b[1mINFO    \u001b[0m | \u001b[36mopenagentkit.modules.openai.openai_executor\u001b[0m:\u001b[36mexecute\u001b[0m:\u001b[36m164\u001b[0m - \u001b[1mResponse Received: role='assistant' content='Could you please specify which city you would like to know the weather for?' tool_calls=None tool_results=None refusal=None audio=None usage=UsageResponse(prompt_tokens=140, completion_tokens=17, total_tokens=157, prompt_tokens_details=PromptTokensDetails(cached_tokens=0, audio_tokens=0), completion_tokens_details=CompletionTokensDetails(reasoning_tokens=0, audio_tokens=0, accepted_prediction_tokens=0, rejected_prediction_tokens=0))\u001b[0m\n"
     ]
    },
    {
     "name": "stdout",
     "output_type": "stream",
     "text": [
      "AI: Could you please specify which city you would like to know the weather for?\n",
      "User: I'm in Hanoi at the moment\n"
     ]
    },
    {
     "name": "stderr",
     "output_type": "stream",
     "text": [
      "\u001b[32m2025-04-18 00:27:14.227\u001b[0m | \u001b[1mINFO    \u001b[0m | \u001b[36mopenagentkit.modules.openai.openai_executor\u001b[0m:\u001b[36mexecute\u001b[0m:\u001b[36m164\u001b[0m - \u001b[1mResponse Received: role='assistant' content=None tool_calls=[{'id': 'call_bvMpEvk9pzX3hkYegJPU4qiF', 'type': 'function', 'function': {'arguments': '{\"city\":\"Hanoi\"}', 'name': 'get_weather'}}] tool_results=None refusal=None audio=None usage=UsageResponse(prompt_tokens=188, completion_tokens=16, total_tokens=204, prompt_tokens_details=PromptTokensDetails(cached_tokens=0, audio_tokens=0), completion_tokens_details=CompletionTokensDetails(reasoning_tokens=0, audio_tokens=0, accepted_prediction_tokens=0, rejected_prediction_tokens=0))\u001b[0m\n",
      "\u001b[32m2025-04-18 00:27:14.228\u001b[0m | \u001b[1mINFO    \u001b[0m | \u001b[36mopenagentkit.core.handlers.tool_handler\u001b[0m:\u001b[36mhandle_tool_request\u001b[0m:\u001b[36m179\u001b[0m - \u001b[1mTool Result: Weather in Hanoi: sunny, 20°C, feels like 22°C, humidity: 50%\u001b[0m\n"
     ]
    },
    {
     "name": "stdout",
     "output_type": "stream",
     "text": [
      "Tool Calls: {'id': 'call_bvMpEvk9pzX3hkYegJPU4qiF', 'type': 'function', 'function': {'arguments': '{\"city\":\"Hanoi\"}', 'name': 'get_weather'}}\n"
     ]
    },
    {
     "name": "stderr",
     "output_type": "stream",
     "text": [
      "\u001b[32m2025-04-18 00:27:16.348\u001b[0m | \u001b[1mINFO    \u001b[0m | \u001b[36mopenagentkit.modules.openai.openai_executor\u001b[0m:\u001b[36mexecute\u001b[0m:\u001b[36m164\u001b[0m - \u001b[1mResponse Received: role='assistant' content='The weather in Hanoi is currently sunny, with a temperature of 20°C. It feels like 22°C, and the humidity is at 50%. If you need more information or have other questions, feel free to ask!' tool_calls=None tool_results=None refusal=None audio=None usage=UsageResponse(prompt_tokens=237, completion_tokens=48, total_tokens=285, prompt_tokens_details=PromptTokensDetails(cached_tokens=0, audio_tokens=0), completion_tokens_details=CompletionTokensDetails(reasoning_tokens=0, audio_tokens=0, accepted_prediction_tokens=0, rejected_prediction_tokens=0))\u001b[0m\n"
     ]
    },
    {
     "name": "stdout",
     "output_type": "stream",
     "text": [
      "AI: The weather in Hanoi is currently sunny, with a temperature of 20°C. It feels like 22°C, and the humidity is at 50%. If you need more information or have other questions, feel free to ask!\n",
      "User: exit\n"
     ]
    }
   ],
   "source": [
    "while True:\n",
    "    user_input = input(\"User: \")\n",
    "    print(f\"User: {user_input}\")\n",
    "    \n",
    "    if user_input.lower() == \"exit\":\n",
    "        break\n",
    "\n",
    "    generator = executor.execute(\n",
    "        messages=[\n",
    "            {\"role\": \"user\", \"content\": user_input}\n",
    "        ]\n",
    "    )\n",
    "\n",
    "    for response in generator:\n",
    "        if response.content is not None:\n",
    "            print(f\"AI: {response.content}\")\n",
    "        if response.tool_calls:\n",
    "            [print(f\"Tool Calls: {tool_call}\") for tool_call in response.tool_calls]"
   ]
  },
  {
   "cell_type": "code",
   "execution_count": 7,
   "id": "a8ca886b",
   "metadata": {},
   "outputs": [
    {
     "data": {
      "text/plain": [
       "[{'role': 'system',\n",
       "  'content': '\\n    You are a helpful assistant that can answer questions and help with tasks.\\n    You are also able to use tools to get information.\\n    \\n        Current date and time: 2025-04-18 00:26:52\\n\\n        \\n        '},\n",
       " {'role': 'user', 'content': 'Hello'},\n",
       " {'role': 'assistant', 'content': 'Hello! How can I assist you today?'},\n",
       " {'role': 'assistant', 'content': 'Hello! How can I assist you today?'},\n",
       " {'role': 'user', 'content': \"What's the weather like?\"},\n",
       " {'role': 'assistant',\n",
       "  'content': 'Could you please specify which city you would like to know the weather for?'},\n",
       " {'role': 'assistant',\n",
       "  'content': 'Could you please specify which city you would like to know the weather for?'},\n",
       " {'role': 'user', 'content': \"I'm in Hanoi at the moment\"},\n",
       " {'role': 'assistant',\n",
       "  'tool_calls': [{'id': 'call_bvMpEvk9pzX3hkYegJPU4qiF',\n",
       "    'type': 'function',\n",
       "    'function': {'arguments': '{\"city\":\"Hanoi\"}', 'name': 'get_weather'}}],\n",
       "  'content': 'None'},\n",
       " ToolCallMessage(role='tool', tool_call_id='call_bvMpEvk9pzX3hkYegJPU4qiF', content='Weather in Hanoi: sunny, 20°C, feels like 22°C, humidity: 50%'),\n",
       " {'role': 'assistant',\n",
       "  'content': 'The weather in Hanoi is currently sunny, with a temperature of 20°C. It feels like 22°C, and the humidity is at 50%. If you need more information or have other questions, feel free to ask!'},\n",
       " {'role': 'assistant',\n",
       "  'content': 'The weather in Hanoi is currently sunny, with a temperature of 20°C. It feels like 22°C, and the humidity is at 50%. If you need more information or have other questions, feel free to ask!'}]"
      ]
     },
     "execution_count": 7,
     "metadata": {},
     "output_type": "execute_result"
    }
   ],
   "source": [
    "executor.get_history()"
   ]
  }
 ],
 "metadata": {
  "kernelspec": {
   "display_name": ".venv",
   "language": "python",
   "name": "python3"
  },
  "language_info": {
   "codemirror_mode": {
    "name": "ipython",
    "version": 3
   },
   "file_extension": ".py",
   "mimetype": "text/x-python",
   "name": "python",
   "nbconvert_exporter": "python",
   "pygments_lexer": "ipython3",
   "version": "3.11.11"
  }
 },
 "nbformat": 4,
 "nbformat_minor": 5
}
