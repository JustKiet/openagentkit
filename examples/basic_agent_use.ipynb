{
 "cells": [
  {
   "cell_type": "code",
   "execution_count": 1,
   "id": "0740f17d",
   "metadata": {},
   "outputs": [
    {
     "ename": "ModuleNotFoundError",
     "evalue": "No module named 'openagentkit'",
     "output_type": "error",
     "traceback": [
      "\u001b[31m---------------------------------------------------------------------------\u001b[39m",
      "\u001b[31mModuleNotFoundError\u001b[39m                       Traceback (most recent call last)",
      "\u001b[36mCell\u001b[39m\u001b[36m \u001b[39m\u001b[32mIn[1]\u001b[39m\u001b[32m, line 1\u001b[39m\n\u001b[32m----> \u001b[39m\u001b[32m1\u001b[39m \u001b[38;5;28;01mfrom\u001b[39;00m\u001b[38;5;250m \u001b[39m\u001b[34;01mopenagentkit\u001b[39;00m\u001b[34;01m.\u001b[39;00m\u001b[34;01mmodules\u001b[39;00m\u001b[34;01m.\u001b[39;00m\u001b[34;01mopenai\u001b[39;00m\u001b[38;5;250m \u001b[39m\u001b[38;5;28;01mimport\u001b[39;00m OpenAIExecutor\n\u001b[32m      2\u001b[39m \u001b[38;5;28;01mfrom\u001b[39;00m\u001b[38;5;250m \u001b[39m\u001b[34;01mopenagentkit\u001b[39;00m\u001b[34;01m.\u001b[39;00m\u001b[34;01mcore\u001b[39;00m\u001b[34;01m.\u001b[39;00m\u001b[34;01mutils\u001b[39;00m\u001b[34;01m.\u001b[39;00m\u001b[34;01mtool_wrapper\u001b[39;00m\u001b[38;5;250m \u001b[39m\u001b[38;5;28;01mimport\u001b[39;00m tool\n\u001b[32m      3\u001b[39m \u001b[38;5;28;01mfrom\u001b[39;00m\u001b[38;5;250m \u001b[39m\u001b[34;01mpydantic\u001b[39;00m\u001b[38;5;250m \u001b[39m\u001b[38;5;28;01mimport\u001b[39;00m BaseModel\n",
      "\u001b[31mModuleNotFoundError\u001b[39m: No module named 'openagentkit'"
     ]
    }
   ],
   "source": [
    "from openagentkit.modules.openai import OpenAIExecutor\n",
    "from openagentkit.core.utils.tool_wrapper import tool\n",
    "from pydantic import BaseModel\n",
    "from typing import Annotated\n",
    "import openai\n",
    "import os"
   ]
  },
  {
   "cell_type": "code",
   "execution_count": null,
   "id": "40935486",
   "metadata": {},
   "outputs": [],
   "source": [
    "# Define a tool\n",
    "@tool(\n",
    "    description=\"Get the weather of a city\", # Define the tool description\n",
    ")\n",
    "def get_weather(city: Annotated[str, \"The city to get the weather of\"]): # Each argument must be of type Annotated\n",
    "    \"\"\"Get the weather of a city\"\"\"\n",
    "\n",
    "    # Actual implementation here...\n",
    "    # ...\n",
    "\n",
    "    return f\"Weather in {city}: sunny, 20°C, feels like 22°C, humidity: 50%\""
   ]
  },
  {
   "cell_type": "code",
   "execution_count": null,
   "id": "b52994ff",
   "metadata": {},
   "outputs": [
    {
     "name": "stderr",
     "output_type": "stream",
     "text": [
      "\u001b[32m2025-04-18 00:09:30.875\u001b[0m | \u001b[1mINFO    \u001b[0m | \u001b[36mopenagentkit.modules.openai.openai_executor\u001b[0m:\u001b[36mexecute\u001b[0m:\u001b[36m164\u001b[0m - \u001b[1mResponse Received: role='assistant' content=None tool_calls=[{'id': 'call_b21Mn2v1yHyjVqf6luXyBITn', 'type': 'function', 'function': {'arguments': '{\"city\":\"New York\"}', 'name': 'get_weather'}}] tool_results=None refusal=None audio=None usage=UsageResponse(prompt_tokens=112, completion_tokens=16, total_tokens=128, prompt_tokens_details=PromptTokensDetails(cached_tokens=0, audio_tokens=0), completion_tokens_details=CompletionTokensDetails(reasoning_tokens=0, audio_tokens=0, accepted_prediction_tokens=0, rejected_prediction_tokens=0))\u001b[0m\n",
      "\u001b[32m2025-04-18 00:09:30.877\u001b[0m | \u001b[1mINFO    \u001b[0m | \u001b[36mopenagentkit.core.handlers.tool_handler\u001b[0m:\u001b[36mhandle_tool_request\u001b[0m:\u001b[36m179\u001b[0m - \u001b[1mTool Result: Weather in New York: sunny, 20°C, feels like 22°C, humidity: 50%\u001b[0m\n"
     ]
    },
    {
     "name": "stdout",
     "output_type": "stream",
     "text": [
      "role='assistant' content='None' tool_calls=[{'id': 'call_b21Mn2v1yHyjVqf6luXyBITn', 'type': 'function', 'function': {'arguments': '{\"city\":\"New York\"}', 'name': 'get_weather'}}] tool_results=None refusal=None audio=None usage=UsageResponse(prompt_tokens=112, completion_tokens=16, total_tokens=128, prompt_tokens_details=PromptTokensDetails(cached_tokens=0, audio_tokens=0), completion_tokens_details=CompletionTokensDetails(reasoning_tokens=0, audio_tokens=0, accepted_prediction_tokens=0, rejected_prediction_tokens=0))\n",
      "role='tool' content='None' tool_calls=None tool_results=[ToolCallResult(tool_name='get_weather', result='Weather in New York: sunny, 20°C, feels like 22°C, humidity: 50%')] refusal=None audio=None usage=UsageResponse(prompt_tokens=112, completion_tokens=16, total_tokens=128, prompt_tokens_details=PromptTokensDetails(cached_tokens=0, audio_tokens=0), completion_tokens_details=CompletionTokensDetails(reasoning_tokens=0, audio_tokens=0, accepted_prediction_tokens=0, rejected_prediction_tokens=0))\n"
     ]
    },
    {
     "name": "stderr",
     "output_type": "stream",
     "text": [
      "\u001b[32m2025-04-18 00:09:32.404\u001b[0m | \u001b[1mINFO    \u001b[0m | \u001b[36mopenagentkit.modules.openai.openai_executor\u001b[0m:\u001b[36mexecute\u001b[0m:\u001b[36m164\u001b[0m - \u001b[1mResponse Received: role='assistant' content='The weather in New York is currently sunny, with a temperature of 20°C (feels like 22°C) and a humidity level of 50%.' tool_calls=None tool_results=None refusal=None audio=None usage=UsageResponse(prompt_tokens=162, completion_tokens=34, total_tokens=196, prompt_tokens_details=PromptTokensDetails(cached_tokens=0, audio_tokens=0), completion_tokens_details=CompletionTokensDetails(reasoning_tokens=0, audio_tokens=0, accepted_prediction_tokens=0, rejected_prediction_tokens=0))\u001b[0m\n"
     ]
    },
    {
     "name": "stdout",
     "output_type": "stream",
     "text": [
      "role='assistant' content='The weather in New York is currently sunny, with a temperature of 20°C (feels like 22°C) and a humidity level of 50%.' tool_calls=None tool_results=[] refusal=None audio=None usage=UsageResponse(prompt_tokens=162, completion_tokens=34, total_tokens=196, prompt_tokens_details=PromptTokensDetails(cached_tokens=0, audio_tokens=0), completion_tokens_details=CompletionTokensDetails(reasoning_tokens=0, audio_tokens=0, accepted_prediction_tokens=0, rejected_prediction_tokens=0))\n"
     ]
    }
   ],
   "source": [
    "# Initialize OpenAI client\n",
    "client = openai.OpenAI(\n",
    "    api_key=os.getenv(\"OPENAI_API_KEY\"),\n",
    ")\n",
    "\n",
    "# Initialize LLM service\n",
    "executor = OpenAIExecutor(\n",
    "    client=client,\n",
    "    model=\"gpt-4o-mini\",\n",
    "    system_message=\"\"\"\n",
    "    You are a helpful assistant that can answer questions and help with tasks.\n",
    "    You are also able to use tools to get information.\n",
    "    \"\"\",\n",
    "    tools=[get_weather],\n",
    "    temperature=0.5,\n",
    "    max_tokens=100,\n",
    "    top_p=1.0,\n",
    ")\n",
    "\n",
    "generator = executor.execute(\n",
    "    messages=[\n",
    "        {\"role\": \"user\", \"content\": \"What's the weather like in New York?\"}\n",
    "    ]\n",
    ")\n",
    "\n",
    "for response in generator:\n",
    "    print(response)"
   ]
  },
  {
   "cell_type": "code",
   "execution_count": null,
   "id": "465869ce",
   "metadata": {},
   "outputs": [
    {
     "data": {
      "text/plain": [
       "[{'role': 'system',\n",
       "  'content': '\\n    You are a helpful assistant that can answer questions and help with tasks.\\n    You are also able to use tools to get information.\\n    \\n        Current date and time: 2025-04-18 00:09:29\\n\\n        \\n        '}]"
      ]
     },
     "execution_count": 4,
     "metadata": {},
     "output_type": "execute_result"
    }
   ],
   "source": [
    "executor.clear_history()"
   ]
  },
  {
   "cell_type": "code",
   "execution_count": null,
   "id": "82b2a256",
   "metadata": {},
   "outputs": [
    {
     "name": "stdout",
     "output_type": "stream",
     "text": [
      "User: hanoi weather\n"
     ]
    },
    {
     "name": "stderr",
     "output_type": "stream",
     "text": [
      "\u001b[32m2025-04-18 00:10:17.443\u001b[0m | \u001b[1mINFO    \u001b[0m | \u001b[36mopenagentkit.modules.openai.openai_executor\u001b[0m:\u001b[36mexecute\u001b[0m:\u001b[36m164\u001b[0m - \u001b[1mResponse Received: role='assistant' content=None tool_calls=[{'id': 'call_SHBPcf7A1Jkt3ZT2j2c93MZA', 'type': 'function', 'function': {'arguments': '{\"city\":\"Hanoi\"}', 'name': 'get_weather'}}] tool_results=None refusal=None audio=None usage=UsageResponse(prompt_tokens=229, completion_tokens=16, total_tokens=245, prompt_tokens_details=PromptTokensDetails(cached_tokens=0, audio_tokens=0), completion_tokens_details=CompletionTokensDetails(reasoning_tokens=0, audio_tokens=0, accepted_prediction_tokens=0, rejected_prediction_tokens=0))\u001b[0m\n",
      "\u001b[32m2025-04-18 00:10:17.445\u001b[0m | \u001b[1mINFO    \u001b[0m | \u001b[36mopenagentkit.core.handlers.tool_handler\u001b[0m:\u001b[36mhandle_tool_request\u001b[0m:\u001b[36m179\u001b[0m - \u001b[1mTool Result: Weather in Hanoi: sunny, 20°C, feels like 22°C, humidity: 50%\u001b[0m\n"
     ]
    },
    {
     "name": "stdout",
     "output_type": "stream",
     "text": [
      "AI: None\n",
      "Tool Calls: {'id': 'call_SHBPcf7A1Jkt3ZT2j2c93MZA', 'type': 'function', 'function': {'arguments': '{\"city\":\"Hanoi\"}', 'name': 'get_weather'}}\n",
      "AI: None\n"
     ]
    },
    {
     "name": "stderr",
     "output_type": "stream",
     "text": [
      "\u001b[32m2025-04-18 00:10:18.492\u001b[0m | \u001b[1mINFO    \u001b[0m | \u001b[36mopenagentkit.modules.openai.openai_executor\u001b[0m:\u001b[36mexecute\u001b[0m:\u001b[36m164\u001b[0m - \u001b[1mResponse Received: role='assistant' content='The current weather in Hanoi is sunny, with a temperature of 20°C (feels like 22°C) and humidity at 50%.' tool_calls=None tool_results=None refusal=None audio=None usage=UsageResponse(prompt_tokens=278, completion_tokens=31, total_tokens=309, prompt_tokens_details=PromptTokensDetails(cached_tokens=0, audio_tokens=0), completion_tokens_details=CompletionTokensDetails(reasoning_tokens=0, audio_tokens=0, accepted_prediction_tokens=0, rejected_prediction_tokens=0))\u001b[0m\n"
     ]
    },
    {
     "name": "stdout",
     "output_type": "stream",
     "text": [
      "AI: The current weather in Hanoi is sunny, with a temperature of 20°C (feels like 22°C) and humidity at 50%.\n"
     ]
    }
   ],
   "source": [
    "while True:\n",
    "    user_input = input(\"User: \")\n",
    "    print(f\"User: {user_input}\")\n",
    "    \n",
    "    if user_input.lower() == \"exit\":\n",
    "        break\n",
    "\n",
    "    generator = executor.execute(\n",
    "        messages=[\n",
    "            {\"role\": \"user\", \"content\": user_input}\n",
    "        ]\n",
    "    )\n",
    "\n",
    "    for response in generator:\n",
    "        if response.content is not None:\n",
    "            print(f\"AI: {response.content}\")\n",
    "        if response.tool_calls:\n",
    "            [print(f\"Tool Calls: {tool_call}\") for tool_call in response.tool_calls]"
   ]
  },
  {
   "cell_type": "code",
   "execution_count": null,
   "id": "a8ca886b",
   "metadata": {},
   "outputs": [
    {
     "data": {
      "text/plain": [
       "[{'role': 'system',\n",
       "  'content': '\\n    You are a helpful assistant that can answer questions and help with tasks.\\n    You are also able to use tools to get information.\\n    \\n        Current date and time: 2025-04-18 00:09:29\\n\\n        \\n        '},\n",
       " {'role': 'user', 'content': 'hanoi weather'},\n",
       " {'role': 'assistant',\n",
       "  'tool_calls': [{'id': 'call_Yp7f7gDxgPLH0BriqpkqEtqD',\n",
       "    'type': 'function',\n",
       "    'function': {'arguments': '{\"city\":\"Hanoi\"}', 'name': 'get_weather'}}],\n",
       "  'content': 'None'},\n",
       " ToolCallMessage(role='tool', tool_call_id='call_Yp7f7gDxgPLH0BriqpkqEtqD', content='Weather in Hanoi: sunny, 20°C, feels like 22°C, humidity: 50%'),\n",
       " {'role': 'assistant',\n",
       "  'content': 'The current weather in Hanoi is sunny, with a temperature of 20°C (feels like 22°C) and humidity at 50%.'},\n",
       " {'role': 'assistant',\n",
       "  'content': 'The current weather in Hanoi is sunny, with a temperature of 20°C (feels like 22°C) and humidity at 50%.'}]"
      ]
     },
     "execution_count": 6,
     "metadata": {},
     "output_type": "execute_result"
    }
   ],
   "source": [
    "executor.get_history()"
   ]
  }
 ],
 "metadata": {
  "kernelspec": {
   "display_name": ".venv",
   "language": "python",
   "name": "python3"
  },
  "language_info": {
   "codemirror_mode": {
    "name": "ipython",
    "version": 3
   },
   "file_extension": ".py",
   "mimetype": "text/x-python",
   "name": "python",
   "nbconvert_exporter": "python",
   "pygments_lexer": "ipython3",
   "version": "3.11.11"
  }
 },
 "nbformat": 4,
 "nbformat_minor": 5
}
