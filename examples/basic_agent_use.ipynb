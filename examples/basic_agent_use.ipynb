{
 "cells": [
  {
   "cell_type": "code",
   "execution_count": 4,
   "id": "0740f17d",
   "metadata": {},
   "outputs": [
    {
     "ename": "ModuleNotFoundError",
     "evalue": "No module named 'openagentkit'",
     "output_type": "error",
     "traceback": [
      "\u001b[31m---------------------------------------------------------------------------\u001b[39m",
      "\u001b[31mModuleNotFoundError\u001b[39m                       Traceback (most recent call last)",
      "\u001b[36mCell\u001b[39m\u001b[36m \u001b[39m\u001b[32mIn[4]\u001b[39m\u001b[32m, line 1\u001b[39m\n\u001b[32m----> \u001b[39m\u001b[32m1\u001b[39m \u001b[38;5;28;01mfrom\u001b[39;00m\u001b[38;5;250m \u001b[39m\u001b[34;01mopenagentkit\u001b[39;00m\u001b[34;01m.\u001b[39;00m\u001b[34;01mmodules\u001b[39;00m\u001b[34;01m.\u001b[39;00m\u001b[34;01mopenai\u001b[39;00m\u001b[38;5;250m \u001b[39m\u001b[38;5;28;01mimport\u001b[39;00m OpenAIExecutor\n\u001b[32m      2\u001b[39m \u001b[38;5;28;01mfrom\u001b[39;00m\u001b[38;5;250m \u001b[39m\u001b[34;01mopenagentkit\u001b[39;00m\u001b[34;01m.\u001b[39;00m\u001b[34;01mutils\u001b[39;00m\u001b[34;01m.\u001b[39;00m\u001b[34;01mtool_wrapper\u001b[39;00m\u001b[38;5;250m \u001b[39m\u001b[38;5;28;01mimport\u001b[39;00m tool\n\u001b[32m      3\u001b[39m \u001b[38;5;28;01mfrom\u001b[39;00m\u001b[38;5;250m \u001b[39m\u001b[34;01mpydantic\u001b[39;00m\u001b[38;5;250m \u001b[39m\u001b[38;5;28;01mimport\u001b[39;00m BaseModel\n",
      "\u001b[31mModuleNotFoundError\u001b[39m: No module named 'openagentkit'"
     ]
    }
   ],
   "source": [
    "from openagentkit.modules.openai import OpenAIExecutor\n",
    "from openagentkit.utils.tool_wrapper import tool\n",
    "from pydantic import BaseModel\n",
    "from typing import Annotated\n",
    "import openai\n",
    "import os"
   ]
  },
  {
   "cell_type": "code",
   "execution_count": null,
   "id": "40935486",
   "metadata": {},
   "outputs": [],
   "source": [
    "# Define a tool\n",
    "@tool(\n",
    "    description=\"Get the weather of a city\", # Define the tool description\n",
    ")\n",
    "def get_weather(city: Annotated[str, \"The city to get the weather of\"]) -> str: # Each argument must be of type Annotated\n",
    "    \"\"\"Get the weather of a city\"\"\"\n",
    "\n",
    "    # Actual implementation here...\n",
    "    # ...\n",
    "\n",
    "    # Define a response schema\n",
    "    class WeatherResponse(BaseModel):\n",
    "        city: str\n",
    "        weather: str\n",
    "        temperature: float\n",
    "        feels_like: float\n",
    "        humidity: float\n",
    "\n",
    "    return WeatherResponse( # The Response must be a pydantic model\n",
    "        city=city,\n",
    "        weather=\"sunny\",\n",
    "        temperature=20,\n",
    "        feels_like=22,\n",
    "        humidity=0.5,\n",
    "    )"
   ]
  },
  {
   "cell_type": "code",
   "execution_count": null,
   "id": "b52994ff",
   "metadata": {},
   "outputs": [],
   "source": [
    "# Initialize OpenAI client\n",
    "client = openai.OpenAI(\n",
    "    api_key=os.getenv(\"OPENAI_API_KEY\"),\n",
    ")\n",
    "\n",
    "# Initialize LLM service\n",
    "executor = OpenAIExecutor(\n",
    "    client=client,\n",
    "    model=\"gpt-4o-mini\",\n",
    "    system_message=\"\"\"\n",
    "    You are a helpful assistant that can answer questions and help with tasks.\n",
    "    You are also able to use tools to get information.\n",
    "    \"\"\",\n",
    "    tools=[get_weather],\n",
    "    temperature=0.5,\n",
    "    max_tokens=100,\n",
    "    top_p=1.0,\n",
    ")\n",
    "\n",
    "generator = executor.execute(\n",
    "    messages=[\n",
    "        {\"role\": \"user\", \"content\": \"What's the weather like in New York?\"}\n",
    "    ]\n",
    ")\n",
    "\n",
    "for response in generator:\n",
    "    print(response.content)"
   ]
  }
 ],
 "metadata": {
  "kernelspec": {
   "display_name": ".venv",
   "language": "python",
   "name": "python3"
  },
  "language_info": {
   "codemirror_mode": {
    "name": "ipython",
    "version": 3
   },
   "file_extension": ".py",
   "mimetype": "text/x-python",
   "name": "python",
   "nbconvert_exporter": "python",
   "pygments_lexer": "ipython3",
   "version": "3.11.11"
  }
 },
 "nbformat": 4,
 "nbformat_minor": 5
}
