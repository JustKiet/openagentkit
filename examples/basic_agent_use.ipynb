{
 "cells": [
  {
   "cell_type": "code",
   "execution_count": 1,
   "id": "0740f17d",
   "metadata": {},
   "outputs": [],
   "source": [
    "from openagentkit.modules.openai import OpenAIExecutor\n",
    "from openagentkit.utils.tool_wrapper import tool\n",
    "from pydantic import BaseModel\n",
    "from typing import Annotated\n",
    "import openai\n",
    "import os"
   ]
  },
  {
   "cell_type": "code",
   "execution_count": 2,
   "id": "40935486",
   "metadata": {},
   "outputs": [],
   "source": [
    "# Define a tool\n",
    "@tool(\n",
    "    description=\"Get the weather of a city\", # Define the tool description\n",
    ")\n",
    "def get_weather(city: Annotated[str, \"The city to get the weather of\"]) -> str: # Each argument must be of type Annotated\n",
    "    \"\"\"Get the weather of a city\"\"\"\n",
    "\n",
    "    # Actual implementation here...\n",
    "    # ...\n",
    "\n",
    "    # Define a response schema\n",
    "    class WeatherResponse(BaseModel):\n",
    "        city: str\n",
    "        weather: str\n",
    "        temperature: float\n",
    "        feels_like: float\n",
    "        humidity: float\n",
    "\n",
    "    return WeatherResponse( # The Response must be a pydantic model\n",
    "        city=city,\n",
    "        weather=\"sunny\",\n",
    "        temperature=20,\n",
    "        feels_like=22,\n",
    "        humidity=0.5,\n",
    "    )"
   ]
  },
  {
   "cell_type": "code",
   "execution_count": 3,
   "id": "b52994ff",
   "metadata": {},
   "outputs": [
    {
     "name": "stderr",
     "output_type": "stream",
     "text": [
      "\u001b[32m2025-04-15 18:51:48.103\u001b[0m | \u001b[34m\u001b[1mDEBUG   \u001b[0m | \u001b[36mopenagentkit.modules.openai.openai_executor\u001b[0m:\u001b[36mexecute\u001b[0m:\u001b[36m129\u001b[0m - \u001b[34m\u001b[1mContext: [{'role': 'system', 'content': '\\n    You are a helpful assistant that can answer questions and help with tasks.\\n    You are also able to use tools to get information.\\n    \\n        Current date and time: 2025-04-15 18:51:48\\n\\n        \\n        '}, {'role': 'user', 'content': \"What's the weather like in New York?\"}]\u001b[0m\n",
      "\u001b[32m2025-04-15 18:51:49.909\u001b[0m | \u001b[1mINFO    \u001b[0m | \u001b[36mopenagentkit.modules.openai.openai_executor\u001b[0m:\u001b[36mexecute\u001b[0m:\u001b[36m144\u001b[0m - \u001b[1mResponse Received: role='assistant' content=None tool_calls=[{'id': 'call_UhqLA87MclqstuUEBu7Kt0zJ', 'type': 'function', 'function': {'arguments': '{\"city\":\"New York\"}', 'name': 'get_weather'}}] tool_results=None refusal=None audio=None usage=UsageResponse(prompt_tokens=112, completion_tokens=16, total_tokens=128, prompt_tokens_details=PromptTokensDetails(cached_tokens=0, audio_tokens=0), completion_tokens_details=CompletionTokensDetails(reasoning_tokens=0, audio_tokens=0, accepted_prediction_tokens=0, rejected_prediction_tokens=0))\u001b[0m\n",
      "\u001b[32m2025-04-15 18:51:49.911\u001b[0m | \u001b[1mINFO    \u001b[0m | \u001b[36mopenagentkit.handlers.tool_handler\u001b[0m:\u001b[36mhandle_tool_request\u001b[0m:\u001b[36m175\u001b[0m - \u001b[1mTool Result: city='New York' weather='sunny' temperature=20.0 feels_like=22.0 humidity=0.5\u001b[0m\n",
      "\u001b[32m2025-04-15 18:51:49.912\u001b[0m | \u001b[34m\u001b[1mDEBUG   \u001b[0m | \u001b[36mopenagentkit.modules.openai.openai_executor\u001b[0m:\u001b[36mexecute\u001b[0m:\u001b[36m171\u001b[0m - \u001b[34m\u001b[1mTool Messages in Execute: [{'role': 'tool', 'tool_call_id': 'call_UhqLA87MclqstuUEBu7Kt0zJ', 'content': \"city='New York' weather='sunny' temperature=20.0 feels_like=22.0 humidity=0.5\"}]\u001b[0m\n",
      "\u001b[32m2025-04-15 18:51:49.913\u001b[0m | \u001b[34m\u001b[1mDEBUG   \u001b[0m | \u001b[36mopenagentkit.modules.openai.openai_executor\u001b[0m:\u001b[36mexecute\u001b[0m:\u001b[36m175\u001b[0m - \u001b[34m\u001b[1mContext: [{'role': 'system', 'content': '\\n    You are a helpful assistant that can answer questions and help with tasks.\\n    You are also able to use tools to get information.\\n    \\n        Current date and time: 2025-04-15 18:51:48\\n\\n        \\n        '}, {'role': 'user', 'content': \"What's the weather like in New York?\"}, {'role': 'assistant', 'tool_calls': [{'id': 'call_UhqLA87MclqstuUEBu7Kt0zJ', 'type': 'function', 'function': {'arguments': '{\"city\":\"New York\"}', 'name': 'get_weather'}}], 'content': 'None'}, {'role': 'tool', 'tool_call_id': 'call_UhqLA87MclqstuUEBu7Kt0zJ', 'content': \"city='New York' weather='sunny' temperature=20.0 feels_like=22.0 humidity=0.5\"}]\u001b[0m\n",
      "\u001b[32m2025-04-15 18:51:50.996\u001b[0m | \u001b[1mINFO    \u001b[0m | \u001b[36mopenagentkit.modules.openai.openai_executor\u001b[0m:\u001b[36mexecute\u001b[0m:\u001b[36m144\u001b[0m - \u001b[1mResponse Received: role='assistant' content='The weather in New York is currently sunny, with a temperature of 20°C (feels like 22°C) and humidity at 50%.' tool_calls=None tool_results=None refusal=None audio=None usage=UsageResponse(prompt_tokens=166, completion_tokens=32, total_tokens=198, prompt_tokens_details=PromptTokensDetails(cached_tokens=0, audio_tokens=0), completion_tokens_details=CompletionTokensDetails(reasoning_tokens=0, audio_tokens=0, accepted_prediction_tokens=0, rejected_prediction_tokens=0))\u001b[0m\n"
     ]
    },
    {
     "name": "stdout",
     "output_type": "stream",
     "text": [
      "The weather in New York is currently sunny, with a temperature of 20°C (feels like 22°C) and humidity at 50%.\n"
     ]
    }
   ],
   "source": [
    "# Initialize OpenAI client\n",
    "client = openai.OpenAI(\n",
    "    api_key=os.getenv(\"OPENAI_API_KEY\"),\n",
    ")\n",
    "\n",
    "# Initialize LLM service\n",
    "executor = OpenAIExecutor(\n",
    "    client=client,\n",
    "    model=\"gpt-4o-mini\",\n",
    "    system_message=\"\"\"\n",
    "    You are a helpful assistant that can answer questions and help with tasks.\n",
    "    You are also able to use tools to get information.\n",
    "    \"\"\",\n",
    "    tools=[get_weather],\n",
    "    temperature=0.5,\n",
    "    max_tokens=100,\n",
    "    top_p=1.0,\n",
    ")\n",
    "\n",
    "generator = executor.execute(\n",
    "    messages=[\n",
    "        {\"role\": \"user\", \"content\": \"What's the weather like in New York?\"}\n",
    "    ]\n",
    ")\n",
    "\n",
    "for response in generator:\n",
    "    print(response.content)"
   ]
  },
  {
   "cell_type": "code",
   "execution_count": null,
   "id": "82b2a256",
   "metadata": {},
   "outputs": [],
   "source": []
  }
 ],
 "metadata": {
  "kernelspec": {
   "display_name": ".venv",
   "language": "python",
   "name": "python3"
  },
  "language_info": {
   "codemirror_mode": {
    "name": "ipython",
    "version": 3
   },
   "file_extension": ".py",
   "mimetype": "text/x-python",
   "name": "python",
   "nbconvert_exporter": "python",
   "pygments_lexer": "ipython3",
   "version": "3.11.11"
  }
 },
 "nbformat": 4,
 "nbformat_minor": 5
}
